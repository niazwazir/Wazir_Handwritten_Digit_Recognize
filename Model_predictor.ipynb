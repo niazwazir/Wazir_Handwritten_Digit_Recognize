{
 "cells": [
  {
   "cell_type": "code",
   "execution_count": null,
   "metadata": {},
   "outputs": [],
   "source": [
    "from PIL import ImageTk,Image,ImageDraw\n",
    "import PIL\n",
    "from tkinter import *\n",
    "width = 500\n",
    "height=500\n",
    "center=height//2\n",
    "white=(255,255,255)\n",
    "green=(0,128,0)\n",
    "\n",
    "def save():\n",
    "    filename=\"image.png\"\n",
    "    image1.save(filename)\n",
    "\n",
    "def paint(event):\n",
    "    x1,y1=(event.x-1), (event.y-1)\n",
    "    x2,y2=(event.x+1), (event.y+1)\n",
    "    cv.create_oval(x1,y1,x2,y2,fill=\"black\",width=50)\n",
    "    draw.line([x1,y1,x2,y2],fill=\"black\",width=50)\n",
    "\n",
    "\n",
    "root=Tk()\n",
    "cv=Canvas(root,width=500,height=500,bg=\"white\")\n",
    "cv.pack()\n",
    "image1=PIL.Image.new(\"RGB\",(700,700),white)\n",
    "draw=ImageDraw.Draw(image1)\n",
    "cv.pack(expand=YES,fill=BOTH)\n",
    "cv.bind(\"<B1-Motion>\",paint)\n",
    "\n",
    "button=Button(text=\"save\",command=save)\n",
    "button.pack()\n",
    "root.mainloop()\n",
    "    "
   ]
  },
  {
   "cell_type": "code",
   "execution_count": null,
   "metadata": {},
   "outputs": [],
   "source": [
    "import tensorflow as tf"
   ]
  },
  {
   "cell_type": "code",
   "execution_count": null,
   "metadata": {
    "colab": {},
    "colab_type": "code",
    "id": "sY5NnzhtjS06"
   },
   "outputs": [],
   "source": [
    "import numpy as np\n",
    "import matplotlib.pyplot as plt"
   ]
  },
  {
   "cell_type": "code",
   "execution_count": null,
   "metadata": {
    "colab": {},
    "colab_type": "code",
    "id": "-FLFh2dqjS0-"
   },
   "outputs": [],
   "source": [
    "def wazir_train_data_normalize(x,y):\n",
    "    x=tf.cast(x,tf.float32)/255.0\n",
    "    y=tf.cast(y,tf.int64)\n",
    "    return x,y"
   ]
  },
  {
   "cell_type": "code",
   "execution_count": null,
   "metadata": {
    "colab": {},
    "colab_type": "code",
    "id": "f9_nH_F8jS1C"
   },
   "outputs": [],
   "source": [
    "(wazirx_train,waziry_train),(wazirx_test,waziry_test)=tf.keras.datasets.mnist.load_data()"
   ]
  },
  {
   "cell_type": "code",
   "execution_count": null,
   "metadata": {
    "colab": {},
    "colab_type": "code",
    "id": "a3zkjGXIjS1F"
   },
   "outputs": [],
   "source": [
    "def show_img(img):\n",
    "  #plt.figure()\n",
    "  plt.imshow(img)\n",
    "  #plt.colorbar()\n",
    "  plt.show()"
   ]
  },
  {
   "cell_type": "code",
   "execution_count": null,
   "metadata": {
    "colab": {},
    "colab_type": "code",
    "id": "OIT8RcEnjS1K",
    "outputId": "1b724326-954c-4d3e-ccaa-42087ba37640"
   },
   "outputs": [],
   "source": [
    "#show_img(wazirx_train[0])\n",
    "print(waziry_train[0])"
   ]
  },
  {
   "cell_type": "code",
   "execution_count": null,
   "metadata": {
    "colab": {},
    "colab_type": "code",
    "id": "EYKuZ5A-jS1P"
   },
   "outputs": [],
   "source": [
    "def create_slices(x,y):\n",
    "    ds = tf.data.Dataset.from_tensor_slices((x,y))\n",
    "    ds = ds.map(wazir_train_data_normalize)\n",
    "    ds = ds.shuffle(len(x)).batch(128)\n",
    "    return ds"
   ]
  },
  {
   "cell_type": "code",
   "execution_count": null,
   "metadata": {
    "colab": {},
    "colab_type": "code",
    "id": "n5PY1elojS1T"
   },
   "outputs": [],
   "source": [
    "def get_model():\n",
    "  \n",
    "    model = tf.keras.Sequential([\n",
    "      tf.keras.layers.Flatten(input_shape=(28,28)),\n",
    "      tf.keras.layers.Dense(128, activation=tf.nn.relu),\n",
    "      tf.keras.layers.Dropout(0.2),\n",
    "      tf.keras.layers.Dense(128, activation=tf.nn.relu),\n",
    "      tf.keras.layers.Dropout(0.2),\n",
    "      tf.keras.layers.Dense(10, activation=tf.nn.softmax)\n",
    "  ])\n",
    "  \n",
    "    model.compile(optimizer=tf.keras.optimizers.Adam(0.01),\n",
    "               loss = 'sparse_categorical_crossentropy',\n",
    "               metrics=['accuracy'])\n",
    "    return model"
   ]
  },
  {
   "cell_type": "code",
   "execution_count": null,
   "metadata": {
    "colab": {},
    "colab_type": "code",
    "id": "bYiqzwLhjS1X"
   },
   "outputs": [],
   "source": [
    "model=get_model()"
   ]
  },
  {
   "cell_type": "code",
   "execution_count": null,
   "metadata": {
    "colab": {},
    "colab_type": "code",
    "id": "Ak8l394CjS1a",
    "outputId": "28337b75-f29b-441a-b169-2c0f9d1ae346"
   },
   "outputs": [],
   "source": [
    "model.summary()"
   ]
  },
  {
   "cell_type": "code",
   "execution_count": null,
   "metadata": {
    "colab": {},
    "colab_type": "code",
    "id": "tTTSNn7sjS1e"
   },
   "outputs": [],
   "source": [
    "db_train = create_slices(wazirx_train,waziry_train)\n",
    "db_test = create_slices(wazirx_test,waziry_test)"
   ]
  },
  {
   "cell_type": "code",
   "execution_count": null,
   "metadata": {
    "colab": {},
    "colab_type": "code",
    "id": "_BJ8_ZVxjS1i",
    "outputId": "18d3e705-5837-448c-ff4a-ef07cee7c106"
   },
   "outputs": [],
   "source": [
    "model.fit(db_train,epochs=10)"
   ]
  },
  {
   "cell_type": "code",
   "execution_count": null,
   "metadata": {
    "colab": {},
    "colab_type": "code",
    "id": "r7Df0MZLjS1m",
    "outputId": "77e09072-ad8d-4b90-9500-242c82f39bd8"
   },
   "outputs": [],
   "source": [
    "model.evaluate(db_test)"
   ]
  },
  {
   "cell_type": "code",
   "execution_count": null,
   "metadata": {
    "colab": {},
    "colab_type": "code",
    "id": "xkbZiMaKjS1p",
    "outputId": "53dff70a-9295-4b0f-d333-dacbbef71db9"
   },
   "outputs": [],
   "source": [
    "x=wazirx_train[5]\n",
    "#show_img(x)\n",
    "print(waziry_train[5])\n",
    "x.shape"
   ]
  },
  {
   "cell_type": "code",
   "execution_count": null,
   "metadata": {
    "colab": {},
    "colab_type": "code",
    "id": "9IrW_-MtjS1t",
    "outputId": "3367dc47-5684-4b17-8e6f-3d0b277711b0"
   },
   "outputs": [],
   "source": [
    "val=model.predict(x.reshape((1,28,28)))\n",
    "np.argmax(val)"
   ]
  },
  {
   "cell_type": "code",
   "execution_count": null,
   "metadata": {
    "colab": {},
    "colab_type": "code",
    "id": "qWqXQEWtjS1w"
   },
   "outputs": [],
   "source": [
    "img=plt.imread('image.png')"
   ]
  },
  {
   "cell_type": "code",
   "execution_count": null,
   "metadata": {
    "colab": {},
    "colab_type": "code",
    "id": "dgMPOuCUjS1z",
    "outputId": "31e90c3c-1a00-4dfa-ff6c-81bfcefc3e03"
   },
   "outputs": [],
   "source": [
    "show_img(img)"
   ]
  },
  {
   "cell_type": "code",
   "execution_count": null,
   "metadata": {
    "colab": {},
    "colab_type": "code",
    "id": "wk69XhK4jS13",
    "outputId": "0cb9c324-a366-4f61-afb2-9b08d2392c42"
   },
   "outputs": [],
   "source": [
    "img.shape"
   ]
  },
  {
   "cell_type": "code",
   "execution_count": null,
   "metadata": {
    "colab": {},
    "colab_type": "code",
    "id": "bglr8psJjS17",
    "outputId": "fc36b85e-8f1e-43ba-8f7a-2ca714f2e750"
   },
   "outputs": [],
   "source": [
    "img2=tf.image.rgb_to_grayscale(img)\n",
    "img2.shape"
   ]
  },
  {
   "cell_type": "code",
   "execution_count": null,
   "metadata": {
    "colab": {},
    "colab_type": "code",
    "id": "5khY1oQLjS1-",
    "outputId": "e42dc9ad-8034-49fe-9dd2-1b22f8545962"
   },
   "outputs": [],
   "source": [
    "img3=tf.image.resize(img2,(28,28),preserve_aspect_ratio=True)\n",
    "img3.shape"
   ]
  },
  {
   "cell_type": "code",
   "execution_count": null,
   "metadata": {
    "colab": {},
    "colab_type": "code",
    "id": "XguAn4fujS2B",
    "outputId": "49568222-ae39-435f-b385-2ed4db392017"
   },
   "outputs": [],
   "source": [
    "img3=np.squeeze(img3)\n",
    "img3.shape"
   ]
  },
  {
   "cell_type": "code",
   "execution_count": null,
   "metadata": {
    "colab": {},
    "colab_type": "code",
    "id": "ev7U-A6NjS2E"
   },
   "outputs": [],
   "source": [
    "img3,img3y=wazir_train_data_normalize(img3,img3)"
   ]
  },
  {
   "cell_type": "code",
   "execution_count": null,
   "metadata": {
    "colab": {},
    "colab_type": "code",
    "id": "Lo8sbDwljS2I",
    "outputId": "ac88a9f7-fc61-42e1-efd0-1e28ece71516"
   },
   "outputs": [],
   "source": [
    "plt.imshow(1-img3)\n"
   ]
  },
  {
   "cell_type": "code",
   "execution_count": null,
   "metadata": {
    "colab": {},
    "colab_type": "code",
    "id": "gZ-y8VvWjS2M",
    "outputId": "a64e944f-d1eb-4fb1-b5d2-127f1d3a42ed"
   },
   "outputs": [],
   "source": [
    "img3=np.squeeze(img3)\n",
    "img3.shape"
   ]
  },
  {
   "cell_type": "code",
   "execution_count": null,
   "metadata": {
    "colab": {},
    "colab_type": "code",
    "id": "wZpADxZ6jS2P",
    "outputId": "ecd93235-2f20-49e1-9006-5f0121699a20"
   },
   "outputs": [],
   "source": [
    "img4=1-img3.reshape((1,28,28))\n",
    "img4.shape"
   ]
  },
  {
   "cell_type": "code",
   "execution_count": null,
   "metadata": {
    "colab": {},
    "colab_type": "code",
    "id": "yulDv7ycjS2S",
    "outputId": "6b15cdc4-9e41-48e7-dc7b-7e7ed22be005"
   },
   "outputs": [],
   "source": [
    "val=model.predict(x.reshape((1,28,28)))\n",
    "np.argmax(val)"
   ]
  },
  {
   "cell_type": "code",
   "execution_count": null,
   "metadata": {
    "colab": {},
    "colab_type": "code",
    "id": "vTSNtmY6jS2W",
    "outputId": "57116cef-eb1b-4cd7-eb12-0d6fef18e239"
   },
   "outputs": [],
   "source": [
    "plt.imshow(img4[0])"
   ]
  },
  {
   "cell_type": "code",
   "execution_count": null,
   "metadata": {},
   "outputs": [],
   "source": [
    "#Modify Original Code From https://github.com/sandeep021/Handwritten-digit-predictor-using-MNIST-data-set"
   ]
  },
  {
   "cell_type": "code",
   "execution_count": null,
   "metadata": {},
   "outputs": [],
   "source": []
  }
 ],
 "metadata": {
  "accelerator": "GPU",
  "colab": {
   "name": "Model_predictor.ipynb",
   "provenance": []
  },
  "kernelspec": {
   "display_name": "gputest",
   "language": "python",
   "name": "gputest"
  },
  "language_info": {
   "codemirror_mode": {
    "name": "ipython",
    "version": 3
   },
   "file_extension": ".py",
   "mimetype": "text/x-python",
   "name": "python",
   "nbconvert_exporter": "python",
   "pygments_lexer": "ipython3",
   "version": "3.7.7"
  }
 },
 "nbformat": 4,
 "nbformat_minor": 1
}
